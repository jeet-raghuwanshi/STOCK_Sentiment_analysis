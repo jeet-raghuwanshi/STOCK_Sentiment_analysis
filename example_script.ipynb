{
 "cells": [
  {
   "cell_type": "code",
   "execution_count": 3,
   "id": "8a27cbb0",
   "metadata": {},
   "outputs": [
    {
     "name": "stdout",
     "output_type": "stream",
     "text": [
      "Highlights\n",
      "What You Need to Know for the 2023 Tax Season\n",
      "Why Investing at the Last Moment Can Hurt Your Returns\n",
      "Berkshire Hathaway Reports Major Investment Losses in 2022\n",
      "What Fox News Hosts Said Privately vs. Publicly About Voter Fraud\n",
      "They Went Viral and Made Money. Now They Owe Taxes.\n",
      "The E.S.G. Fight Has Come to This: Bankers Suing Lawyers\n",
      "A Video-Gaming School Stumbles on a Way to Get Dropouts Back in Class\n",
      "Thomas H. Lee, Pioneer in Leveraged Buyouts, Is Dead at 78\n",
      "Is It Fraud, or Is It ‘Puffery’?\n",
      "War in Ukraine Deepens Divide Among Major Economies at G20 Gathering\n",
      "The Furniture Hustlers of Silicon Valley\n",
      "How the Fed Opened Pandora’s Box\n",
      "First At-Home Combination Test for Flu and Covid Is OK’d by the F.D.A.\n",
      "12 States Sue F.D.A., Seeking Removal of Special Restrictions on Abortion Pill\n",
      "Revenue Grew at Condé Nast Last Year, but Shy of Target\n",
      "Stocks Sink for Third Straight Week\n",
      "Vice C.E.O.’s Departure Signals Fallen Hopes for Digital Media\n",
      "Cosori Recalls 2 Million Air Fryers After Reports of Fire and Burn Risk\n",
      "U.S. Eyes Trade Deals With Allies to Ease Clash Over Electric Car Subsidies\n",
      "BUSINESS DELIVERED TO YOUR INBOX\n",
      "DealBook\n",
      "Your Money\n",
      "Site Index\n",
      "Site Information Navigation\n"
     ]
    }
   ],
   "source": [
    "from selenium import webdriver\n",
    "from selenium.webdriver.common.keys import Keys\n",
    "from selenium.webdriver.common.by import By\n",
    "from selenium.webdriver.support.ui import WebDriverWait\n",
    "from selenium.webdriver.support import expected_conditions as EC\n",
    "from time import sleep\n",
    "\n",
    "url = \"https://www.nytimes.com/section/business\"\n",
    "\n",
    "driver = webdriver.Chrome()\n",
    "\n",
    "driver.get(url)\n",
    "sleep(1)\n",
    "\n",
    "headings = driver.find_elements(By.TAG_NAME,'h2')\n",
    "for i in headings:\n",
    "    print(i.text)\n",
    "\n",
    "driver.close()"
   ]
  }
 ],
 "metadata": {
  "kernelspec": {
   "display_name": "Python 3 (ipykernel)",
   "language": "python",
   "name": "python3"
  },
  "language_info": {
   "codemirror_mode": {
    "name": "ipython",
    "version": 3
   },
   "file_extension": ".py",
   "mimetype": "text/x-python",
   "name": "python",
   "nbconvert_exporter": "python",
   "pygments_lexer": "ipython3",
   "version": "3.9.13"
  },
  "vscode": {
   "interpreter": {
    "hash": "0a772f36d6f012e6a612662d86668ecc0866106f9098f9c3a4257ac075db434c"
   }
  }
 },
 "nbformat": 4,
 "nbformat_minor": 5
}
