{
 "cells": [
  {
   "cell_type": "code",
   "execution_count": 9,
   "id": "4c24062d",
   "metadata": {},
   "outputs": [],
   "source": [
    "from selenium import webdriver\n",
    "from selenium.webdriver.common.keys import Keys\n",
    "from selenium.webdriver.common.by import By\n",
    "from selenium.webdriver.support.ui import WebDriverWait\n",
    "from selenium.webdriver.support import expected_conditions as EC\n",
    "import pandas as pd\n",
    "from time import sleep"
   ]
  },
  {
   "cell_type": "code",
   "execution_count": 10,
   "id": "40694c7c",
   "metadata": {},
   "outputs": [],
   "source": [
    "stock = input(\"enter company name : \")"
   ]
  },
  {
   "cell_type": "code",
   "execution_count": 13,
   "id": "5d83db30",
   "metadata": {},
   "outputs": [
    {
     "name": "stdout",
     "output_type": "stream",
     "text": [
      "                                                 news\n",
      "0   Reliance Global Group, Inc. Announces Closing ...\n",
      "1   Reliance Global Group Projects Strong Revenue ...\n",
      "2   Reliance Global Group Announces Launch of RELI...\n",
      "3   Reliance Global Group Announces RELI Exchange ...\n",
      "4   Reliance Global Group, Inc. Announces Pricing ...\n",
      "..                                                ...\n",
      "70  Reliance Global Group Reports Five-Fold Increa...\n",
      "71  Reliance Global Group Inc. Announces its Strat...\n",
      "72  Reliance Global Group Appoints David Lazar to ...\n",
      "73  Reliance Global Group Completes Audit of Altri...\n",
      "74  Reliance Global Group Partner Nsure.com Featur...\n",
      "\n",
      "[75 rows x 1 columns]\n"
     ]
    }
   ],
   "source": [
    "site1 = \"https://finviz.com/\"\n",
    "\n",
    "driver = webdriver.Chrome()\n",
    "\n",
    "driver.get(site1)\n",
    "\n",
    "search_box=driver.find_element(By.TAG_NAME,\"input\")\n",
    "search_box.send_keys(stock)\n",
    "WebDriverWait(driver,timeout=1)\n",
    "\n",
    "search_box.send_keys(Keys.ENTER)\n",
    "\n",
    "WebDriverWait(driver,timeout=3).until(EC.element_to_be_clickable((By.XPATH,\"/html/body/div[2]/div/table[1]/tbody/tr/td[1]/a\"))).click()\n",
    "\n",
    "\n",
    "\n",
    "res = driver.find_elements(By.XPATH,\"/html/body/div[2]/div/table[1]/tbody/tr\")\n",
    "\n",
    "if(len(res)==1):\n",
    "    WebDriverWait(driver,timeout=3).until(EC.element_to_be_clickable((By.XPATH,\"/html/body/div[2]/div/table[1]/tbody/tr/td[1]/a\"))).click()\n",
    "\n",
    "if(len(res)>1):\n",
    "    clicked=False\n",
    "    index=1\n",
    "    company=driver.find_element(By.XPATH,\"/html/body/div[2]/div/table[1]/tbody/tr[1]/td[1]/a\")\n",
    "    while(clicked==False):\n",
    "        if(stock in company.text.lower()):\n",
    "            clicked=True\n",
    "            company.click()\n",
    "        else:\n",
    "            index=index+1\n",
    "            company=driver.find_element(By.XPATH,(\"/html/body/div[2]/div/table[1]/tbody/tr[{}]/td[1]/a\".format(index)))\n",
    "\n",
    "headlines=driver.find_elements(By.XPATH,(\"//*[@id='news-table']/tbody/tr\"))\n",
    "\n",
    "\n",
    "news_headlines=[]\n",
    "\n",
    "for headline in headlines:\n",
    "    # date = headline.find_element(By.XPATH,\"./td[1]\")\n",
    "    news = headline.find_element(By.XPATH,\"./td[2]/div/div[1]/a\")\n",
    "    # publisher = headline.find_element(By.XPATH,\"./td[2]/div/div[2]/span[1]\")\n",
    "    # price_fluctuation = headline.find_element(By.XPATH,\"./td[2]/div/div[2]/span[2]\")\n",
    "    # index=index+1\n",
    "    # print(date.text,news.text,publisher.text)\n",
    "\n",
    "    news_headline = {\n",
    "        # 'date' : date.text,\n",
    "        'news' : news.text\n",
    "        # 'publisher' : publisher.text\n",
    "    }\n",
    "\n",
    "    news_headlines.append(news_headline)\n",
    "\n",
    "driver.close()\n",
    "\n",
    "df=pd.DataFrame(news_headlines)\n",
    "\n",
    "print(df)\n",
    "dataframe_name=stock+\".csv\"\n",
    "df.to_csv(dataframe_name)\n"
   ]
  },
  {
   "cell_type": "code",
   "execution_count": 35,
   "id": "1d4cd6fc",
   "metadata": {},
   "outputs": [
    {
     "name": "stdout",
     "output_type": "stream",
     "text": [
      "reliance global group  inc  announces closing of      million private placement reliance global group projects strong revenue growth of more than     for fiscal      reliance global group announces launch of reli university reliance global group announces reli exchange surpasses     agency partners representing over      growth in agency partners since july      reliance global group  inc  announces pricing of      million private placement priced at the market per nasdaq rules reliance global group regains compliance with nasdaq continued listing requirements reliance global group announces   for    reverse stock split reliance global group announces partial conversion of company loan beneficially held by company ceo significantly above current share price reliance global group expands its reli exchange artificial intelligence based insurtech platform with crm integration reliance global group announces real time life insurance quotes are now available through its insurtech platforms reliance global group announces referral partnership with eastern union reliance global group achieves     increase in revenue for the third quarter of      reliance global group schedules third quarter      financial results and business update conference call planet microcap review magazine for q       now online reliance global group to present at microcap rodeo s windy city roundup conference on october   th reliance global group announces reli exchange surpasses     agency partners     companies to present at the  nd annual microcap rodeo   windy city roundup conference on october   th     th       in chicago reliance global group announces share repurchase program of up to   million shares reliance global group announces referral partnership with national retail solutions reliance global group achieves     increase in revenue for the second quarter of      reliance global group schedules second quarter      financial results and business update conference call reliance global group to present at the q  investor summit on august   th reliance global group projects q       revenue to approximately double compared to the same period last year reliance global group to participate in the benzinga all access event on july   nd reliance global group launches reli exchange  highly scalable insurtech platform expected to accelerate growth of agency partner network\n"
     ]
    }
   ],
   "source": [
    "# first_date=df['date'][0]\n",
    "# headline_set=[]\n",
    "# for news in df['news']:\n",
    "# headline_set.append(news)\n",
    "df=df.head(25)\n",
    "\n",
    "combined_news= df.iloc[:,0].str.cat(sep=' ')\n",
    "combined_news.replace(\"[^a-zA-Z]\",\" \")\n",
    "combined_news=combined_news.lower()\n",
    "print(combined_news)\n",
    "\n",
    "# df_row=df.transpose()\n",
    "\n",
    "# # taking data from data frame into a variable\n",
    "# data=df_row[:]\n",
    "\n",
    "# # removing all non alphabetical characters\n",
    "# data.replace(\"[^a-zA-Z]\",\" \",regex=True, inplace=True)\n",
    "\n",
    "# # making all characters lower case\n",
    "# for i in range(0,25): \n",
    "#     data[i]=data[i].str.lower()\n",
    "\n",
    "# # joining all the news to form a paragraph\n",
    "# tester=[]\n",
    "# for i in range(0,25):\n",
    "#     x=data[i]\n",
    "#     tester.append(' '.join(str(x)))\n",
    "\n",
    "# tester[1]\n"
   ]
  },
  {
   "cell_type": "code",
   "execution_count": 40,
   "id": "0c70c88c",
   "metadata": {},
   "outputs": [],
   "source": [
    "import pickle\n",
    "\n",
    "### opening count vectoriser\n",
    "with open('countvector.pkl', 'rb') as read_cv:\n",
    "    countvector = pickle.load(read_cv)\n",
    "\n",
    "### opening our model\n",
    "with open('random_forest_classifier.pkl', 'rb') as read_rfc:\n",
    "    random_forest_classifier = pickle.load(read_rfc)\n",
    "\n",
    "\n",
    "### implement Bag of Words using count vectoriser\n",
    "test_data = countvector.transform([combined_news])\n",
    "\n",
    "### predicting using our model\n",
    "prediction = random_forest_classifier.predict(test_data)\n"
   ]
  },
  {
   "cell_type": "code",
   "execution_count": 44,
   "id": "6f9d484d",
   "metadata": {},
   "outputs": [
    {
     "data": {
      "text/plain": [
       "1"
      ]
     },
     "execution_count": 44,
     "metadata": {},
     "output_type": "execute_result"
    }
   ],
   "source": [
    "prediction[0]"
   ]
  }
 ],
 "metadata": {
  "kernelspec": {
   "display_name": "Python 3 (ipykernel)",
   "language": "python",
   "name": "python3"
  },
  "language_info": {
   "codemirror_mode": {
    "name": "ipython",
    "version": 3
   },
   "file_extension": ".py",
   "mimetype": "text/x-python",
   "name": "python",
   "nbconvert_exporter": "python",
   "pygments_lexer": "ipython3",
   "version": "3.10.9"
  },
  "vscode": {
   "interpreter": {
    "hash": "0a772f36d6f012e6a612662d86668ecc0866106f9098f9c3a4257ac075db434c"
   }
  }
 },
 "nbformat": 4,
 "nbformat_minor": 5
}
